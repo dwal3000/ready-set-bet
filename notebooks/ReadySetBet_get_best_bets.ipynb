{
 "cells": [
  {
   "cell_type": "code",
   "execution_count": 1,
   "id": "48eb3744",
   "metadata": {},
   "outputs": [],
   "source": [
    "import re, sys, json\n",
    "import numpy as np\n",
    "import pandas as pd\n",
    "from collections import Counter\n",
    "from numpy.random import rand, randint\n",
    "from numpy.random import seed\n",
    "import matplotlib.pyplot as plt\n",
    "import seaborn as sns\n",
    "from random import uniform\n",
    "import time\n",
    "from IPython.display import display, clear_output\n",
    "from copy import deepcopy\n",
    "\n",
    "sys.path.append('../lib')\n",
    "\n",
    "from game import roll_dice, Horse, Stable, ReadySetBetGame, Bet, BettingBoard, get_finish_function, get_expected_payouts"
   ]
  },
  {
   "cell_type": "code",
   "execution_count": 4,
   "id": "69a9da8f",
   "metadata": {},
   "outputs": [],
   "source": [
    "basic_starting_stable = Stable({\n",
    "    '2/3': Horse(numbers=[2,3], bonus=3, position=0),\n",
    "    '4': Horse(numbers=[4], bonus=3, position=0),\n",
    "    '5': Horse(numbers=[5], bonus=2, position=0),\n",
    "    '6': Horse(numbers=[6], bonus=1, position=0),\n",
    "    '7': Horse(numbers=[7], bonus=0, position=0),\n",
    "    '8': Horse(numbers=[8], bonus=1, position=0),\n",
    "    '9': Horse(numbers=[9], bonus=2, position=0),\n",
    "    '10': Horse(numbers=[10], bonus=3, position=0),\n",
    "    '11/12': Horse(numbers=[11,12], bonus=3, position=0),\n",
    "})\n",
    "\n",
    "\n",
    "horse_names = ['2/3', '4', '5', '6', '7', '8', '9', '10', '11/12']"
   ]
  },
  {
   "cell_type": "code",
   "execution_count": 8,
   "id": "390586f1",
   "metadata": {},
   "outputs": [
    {
     "name": "stdout",
     "output_type": "stream",
     "text": [
      "\n",
      "Paused State:\n",
      "\n",
      "\n",
      "Step:20 Roll: 12\n",
      "\n",
      "\n",
      "      ___________________________________________________\n",
      "      |  |  |  |  |  |  |  |  |  |  |R |  |  |  |  |FINISH\n",
      "2/3   ------2/                                     |\n",
      "4     ---4                                         |\n",
      "5     ---------------5                             |\n",
      "6     6                                            |\n",
      "7     ------------7                                |\n",
      "8     ---8                                         |\n",
      "9     ---------------9                             |\n",
      "10    10                                           |\n",
      "11/12 ------------11                               |\n",
      "      |  |  |  |  |  |  |  |  |  |  |R |  |  |  |  |FINISH\n",
      "      ___________________________________________________\n",
      "\n",
      "Finished running simulations.\n"
     ]
    }
   ],
   "source": [
    "# \n",
    "# Pause a target simulation and run multiple forward simulations to see what might happen next\n",
    "#\n",
    "        \n",
    "    \n",
    "###########   ADJUST THESE PARAMETERS   ###########\n",
    "            \n",
    "seed(8) # Fix the target simulation\n",
    "\n",
    "stop_step = 20 # Stop the desired simulation after this number of steps (rolls)\n",
    "\n",
    "N = 1000 # Number of foward simulations to do \n",
    "\n",
    "VERBOSE = False\n",
    "\n",
    "###################################################\n",
    "\n",
    "\n",
    "\n",
    "\n",
    "\n",
    "\n",
    "# Start desired simulation\n",
    "game = ReadySetBetGame()\n",
    "\n",
    "# Pause desired simulation at stop_step\n",
    "for i in range(stop_step):\n",
    "    if i < stop_step-1:\n",
    "        game.play_step(visualize=False)\n",
    "    else:\n",
    "        print('\\nPaused State:')\n",
    "        game.play_step(visualize=True)\n",
    "\n",
    "current_stable_state = game.stable\n",
    "\n",
    "logs = []\n",
    "for i in range(N):\n",
    "    game = ReadySetBetGame(stable=deepcopy(current_stable_state))\n",
    "    log = game.play_game(visualize=False, time_step=0.5)\n",
    "    logs.append(log)\n",
    "\n",
    "column_order = horse_names\n",
    "\n",
    "# Store placement info in DataFrame\n",
    "df_placement = pd.DataFrame([log['placement'] for log in logs])[column_order]\n",
    "\n",
    "print('\\nFinished running simulations.')"
   ]
  },
  {
   "cell_type": "code",
   "execution_count": 9,
   "id": "b865f12d",
   "metadata": {},
   "outputs": [
    {
     "name": "stdout",
     "output_type": "stream",
     "text": [
      "Import standard bets\n",
      "{'horse': '2/3', 'won': [[9, -3], [8, -2], [7, -2]], 'placed': [[5, -3], [5, -4]], 'showed': [[4, -3], [4, -4]]}\n",
      "{'horse': '11/12', 'won': [[9, -3], [8, -2], [7, -2]], 'placed': [[5, -3], [5, -4]], 'showed': [[4, -3], [4, -4]]}\n",
      "{'horse': '4', 'won': [[7, 0], [6, 0], [5, -1]], 'placed': [[4, 0], [4, -1]], 'showed': [[3, 0], [3, -1]]}\n",
      "{'horse': '10', 'won': [[7, 0], [6, 0], [5, -1]], 'placed': [[4, 0], [4, -1]], 'showed': [[3, 0], [3, -1]]}\n",
      "{'horse': '5', 'won': [[5, 0], [4, 0], [4, -2]], 'placed': [[3, -2], [2, -2]], 'showed': [[2, 0], [2, -3]]}\n",
      "{'horse': '9', 'won': [[5, 0], [4, 0], [4, -2]], 'placed': [[3, -2], [2, -2]], 'showed': [[2, 0], [2, -3]]}\n",
      "{'horse': '6', 'won': [[3, 0], [3, -1], [3, -2]], 'placed': [[2, -4], [2, -5]], 'showed': [[1, 0], [1, -2]]}\n",
      "{'horse': '8', 'won': [[3, 0], [3, -1], [3, -2]], 'placed': [[2, -4], [2, -5]], 'showed': [[1, 0], [1, -2]]}\n",
      "{'horse': '7', 'won': [[3, -2], [3, -3], [3, -4]], 'placed': [[2, -5], [2, -6]], 'showed': [[1, -1], [1, -3]]}\n",
      "\n",
      "Best bets by expected value:\n",
      "\n",
      "('5.showed.0', 3.996)\n",
      "('9.showed.0', 3.936)\n",
      "('9.placed.0', 3.236)\n",
      "('9.won.0', 3.21)\n",
      "('5.placed.0', 3.137)\n",
      "('5.won.0', 3.03)\n",
      "('5.showed.1', 2.994)\n",
      "('9.showed.1', 2.904)\n",
      "('9.won.1', 2.568)\n",
      "('11/12.showed.0', 2.505)\n",
      "('5.won.1', 2.424)\n",
      "('7.showed.0', 2.06)\n",
      "('11/12.showed.1', 1.872)\n",
      "('9.placed.1', 1.808)\n",
      "('5.placed.1', 1.736)\n",
      "('7.showed.1', 1.59)\n",
      "('11/12.placed.0', 1.41)\n",
      "('7.placed.0', 1.391)\n",
      "('7.won.0', 1.3)\n",
      "('4.showed.0', 1.134)\n",
      "('9.won.2', 0.996)\n",
      "('7.placed.1', 0.972)\n",
      "('8.showed.0', 0.906)\n",
      "('5.won.2', 0.828)\n",
      "('10.showed.0', 0.756)\n",
      "('4.placed.0', 0.744)\n",
      "('8.won.0', 0.675)\n",
      "('6.showed.0', 0.669)\n",
      "('11/12.placed.1', 0.655)\n",
      "('7.won.1', 0.6)\n",
      "('10.placed.0', 0.54)\n",
      "('11/12.won.1', 0.47)\n",
      "('6.won.0', 0.405)\n",
      "('4.won.0', 0.399)\n",
      "('10.won.0', 0.357)\n",
      "('4.won.1', 0.342)\n",
      "('10.won.1', 0.306)\n",
      "('4.showed.1', 0.26)\n",
      "('11/12.won.2', 0.185)\n",
      "('7.won.2', -0.1)\n",
      "('11/12.won.0', -0.15)\n",
      "('10.showed.1', -0.16)\n",
      "('4.placed.1', -0.194)\n",
      "('8.won.1', -0.25)\n",
      "('10.placed.1', -0.415)\n",
      "('8.showed.1', -0.49)\n",
      "('6.won.1', -0.55)\n",
      "('2/3.showed.0', -0.57)\n",
      "('4.won.2', -0.696)\n",
      "('10.won.2', -0.728)\n",
      "('6.showed.1', -0.885)\n",
      "('2/3.won.1', -1.142)\n",
      "('8.won.2', -1.175)\n",
      "('2/3.won.2', -1.241)\n",
      "('2/3.placed.0', -1.308)\n",
      "('2/3.showed.1', -1.408)\n",
      "('6.won.2', -1.505)\n",
      "('2/3.won.0', -2.01)\n",
      "('2/3.placed.1', -2.214)\n",
      "('8.placed.0', -2.22)\n",
      "('6.placed.0', -2.72)\n",
      "('8.placed.1', -3.042)\n",
      "('6.placed.1', -3.592)\n"
     ]
    }
   ],
   "source": [
    "#\n",
    "# Calculate the expected value for each bet\n",
    "#\n",
    "\n",
    "board = BettingBoard()\n",
    "\n",
    "bet_amount = 3 # Standard chips are 2, 3, 3, 4, 5\n",
    "\n",
    "expected_payouts = get_expected_payouts(bet_amount, board, logs)\n",
    "\n",
    "# Display\n",
    "print('\\nBest bets by expected value:\\n')\n",
    "for item in sorted(list(expected_payouts.items()), key=lambda x: x[1], reverse=True):\n",
    "    print(item)"
   ]
  },
  {
   "cell_type": "code",
   "execution_count": 5,
   "id": "b3f8f8ad",
   "metadata": {
    "scrolled": true
   },
   "outputs": [],
   "source": [
    "#\n",
    "# Get overall stats - given current positioning of horses\n",
    "#"
   ]
  },
  {
   "cell_type": "code",
   "execution_count": 6,
   "id": "9988b99a",
   "metadata": {},
   "outputs": [
    {
     "data": {
      "text/plain": [
       "Text(0.5, 1.0, 'Placement Outcomes')"
      ]
     },
     "execution_count": 6,
     "metadata": {},
     "output_type": "execute_result"
    },
    {
     "data": {
      "image/png": "[encoded data removed]",
      "text/plain": [
       "<Figure size 432x288 with 1 Axes>"
      ]
     },
     "metadata": {
      "needs_background": "light"
     },
     "output_type": "display_data"
    }
   ],
   "source": [
    "sns.histplot(data=df_placement[['2/3','4','10','11/12','5','9','6','8','7']], \n",
    "             multiple=\"stack\", binwidth=1, binrange=[0.5, 10.5])\n",
    "plt.xlabel('Place')\n",
    "plt.xlim([0.5, 9.5])\n",
    "plt.title('Placement Outcomes')\n"
   ]
  },
  {
   "cell_type": "code",
   "execution_count": 7,
   "id": "a6c4431d",
   "metadata": {},
   "outputs": [
    {
     "data": {
      "image/png": "[encoded data removed]",
      "text/plain": [
       "<Figure size 432x288 with 1 Axes>"
      ]
     },
     "metadata": {
      "needs_background": "light"
     },
     "output_type": "display_data"
    }
   ],
   "source": [
    "# Placement Cumulative distribution\n",
    "\n",
    "horse_names_use = ['4', '7', '8', '9', '10'] # Select just the horses you are interested in\n",
    "\n",
    "for i, name in enumerate(horse_names_use):\n",
    "    if i==0:\n",
    "        ax =sns.histplot(data=df_placement[name], binwidth=1, binrange=[.5, 9.5], \n",
    "                         element='step', fill=False, stat='percent', label=name, cumulative=True)\n",
    "    else:\n",
    "        sns.histplot(ax=ax, data=df_placement[name], binwidth=1, binrange=[.5, 9.5], \n",
    "                         element='step', fill=False, stat='percent', label=name, cumulative=True)\n",
    "    plt.xlabel('Place')\n",
    "    plt.xlim([.5, 9.5])\n",
    "    plt.title(f\"Placement Cumulative Distribution\")\n",
    "    plt.legend(title='Horse')"
   ]
  },
  {
   "cell_type": "code",
   "execution_count": 8,
   "id": "9bbf6a72",
   "metadata": {},
   "outputs": [
    {
     "data": {
      "image/png": "[encoded data removed]",
      "text/plain": [
       "<Figure size 432x288 with 1 Axes>"
      ]
     },
     "metadata": {
      "needs_background": "light"
     },
     "output_type": "display_data"
    }
   ],
   "source": [
    "# Placement frequency\n",
    "\n",
    "for i, name in enumerate(horse_names_use):\n",
    "    if i==0:\n",
    "        ax =sns.histplot(data=df_placement[name], binwidth=1, binrange=[.5, 9.5], \n",
    "                         element='step', fill=False, stat='percent', label=name)\n",
    "    else:\n",
    "        sns.histplot(ax=ax, data=df_placement[name], binwidth=1, binrange=[.5, 9.5], \n",
    "                         element='step', fill=False, stat='percent', label=name)\n",
    "    plt.xlabel('Place')\n",
    "    plt.xlim([.5, 9.5])\n",
    "    plt.title(f\"Placement Frequency\")\n",
    "    plt.legend(title='Horse')"
   ]
  },
  {
   "cell_type": "code",
   "execution_count": null,
   "id": "c12168d9",
   "metadata": {},
   "outputs": [],
   "source": []
  }
 ],
 "metadata": {
  "kernelspec": {
   "display_name": "Python 3 (ipykernel)",
   "language": "python",
   "name": "python3"
  },
  "language_info": {
   "codemirror_mode": {
    "name": "ipython",
    "version": 3
   },
   "file_extension": ".py",
   "mimetype": "text/x-python",
   "name": "python",
   "nbconvert_exporter": "python",
   "pygments_lexer": "ipython3",
   "version": "3.7.13"
  }
 },
 "nbformat": 4,
 "nbformat_minor": 5
}
