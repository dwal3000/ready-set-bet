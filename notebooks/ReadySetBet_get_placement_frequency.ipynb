{
 "cells": [
  {
   "cell_type": "code",
   "execution_count": 1,
   "id": "48eb3744",
   "metadata": {},
   "outputs": [],
   "source": [
    "import re, sys, json\n",
    "import numpy as np\n",
    "import pandas as pd\n",
    "from collections import Counter\n",
    "from numpy.random import rand, randint\n",
    "from numpy.random import seed\n",
    "import matplotlib.pyplot as plt\n",
    "import seaborn as sns\n",
    "from random import uniform\n",
    "import time\n",
    "from IPython.display import display, clear_output\n",
    "from copy import deepcopy\n",
    "\n",
    "sys.path.append('../lib')\n",
    "\n",
    "from game import roll_dice, Horse, Stable, ReadySetBetGame, Bet, BettingBoard, get_finish_function, get_expected_payouts"
   ]
  },
  {
   "cell_type": "code",
   "execution_count": 2,
   "id": "7435a39f",
   "metadata": {},
   "outputs": [],
   "source": [
    "basic_starting_stable = Stable({\n",
    "    '2/3': Horse(numbers=[2,3], bonus=3, position=0),\n",
    "    '4': Horse(numbers=[4], bonus=3, position=0),\n",
    "    '5': Horse(numbers=[5], bonus=2, position=0),\n",
    "    '6': Horse(numbers=[6], bonus=1, position=0),\n",
    "    '7': Horse(numbers=[7], bonus=0, position=0),\n",
    "    '8': Horse(numbers=[8], bonus=1, position=0),\n",
    "    '9': Horse(numbers=[9], bonus=2, position=0),\n",
    "    '10': Horse(numbers=[10], bonus=3, position=0),\n",
    "    '11/12': Horse(numbers=[11,12], bonus=3, position=0),\n",
    "})\n",
    "\n",
    "\n",
    "horse_names = ['2/3', '4', '5', '6', '7', '8', '9', '10', '11/12']"
   ]
  },
  {
   "cell_type": "code",
   "execution_count": 10,
   "id": "390586f1",
   "metadata": {},
   "outputs": [
    {
     "name": "stdout",
     "output_type": "stream",
     "text": [
      "\n",
      "Finished running simulations.\n"
     ]
    }
   ],
   "source": [
    "#\n",
    "# Run N simulations from the start -- get placement frequencies and avg horse speed\n",
    "#\n",
    "\n",
    "\n",
    "\n",
    "###########   ADJUST THESE PARAMETERS   ###########\n",
    "\n",
    "N = 1000 # Number of simulations to do\n",
    "\n",
    "VISUALIZE = False # Try setting to True if you want to see race happen\n",
    "\n",
    "TIME_STEP = 0.3\n",
    "\n",
    "###################################################\n",
    "\n",
    "\n",
    "logs = []\n",
    "for i in range(N):\n",
    "    game = ReadySetBetGame(stable=deepcopy(basic_starting_stable))\n",
    "    log = game.play_game(visualize=VISUALIZE, time_step=TIME_STEP)\n",
    "    logs.append(log)\n",
    "\n",
    "column_order = horse_names\n",
    "\n",
    "# Store placement info in DataFrame\n",
    "df_placement = pd.DataFrame([log['placement'] for log in logs])[column_order]\n",
    "\n",
    "print('\\nFinished running simulations.')"
   ]
  },
  {
   "cell_type": "code",
   "execution_count": 11,
   "id": "b3f8f8ad",
   "metadata": {
    "scrolled": false
   },
   "outputs": [
    {
     "name": "stdout",
     "output_type": "stream",
     "text": [
      "Average rolls per game 64.4\n",
      "\n",
      "Average spaces moved per roll:\n",
      "{\n",
      "    \"2/3\": 0.102,\n",
      "    \"4\": 0.101,\n",
      "    \"5\": 0.131,\n",
      "    \"6\": 0.156,\n",
      "    \"7\": 0.168,\n",
      "    \"8\": 0.153,\n",
      "    \"9\": 0.134,\n",
      "    \"10\": 0.106,\n",
      "    \"11/12\": 0.1\n",
      "}\n",
      "\n",
      "Average spaces moved per game:\n",
      "{\n",
      "    \"2/3\": 6.6,\n",
      "    \"4\": 6.5,\n",
      "    \"5\": 8.4,\n",
      "    \"6\": 10.1,\n",
      "    \"7\": 10.8,\n",
      "    \"8\": 9.8,\n",
      "    \"9\": 8.6,\n",
      "    \"10\": 6.8,\n",
      "    \"11/12\": 6.4\n",
      "}\n",
      "\n",
      "Average Speed Normalized to Horse 7:\n",
      "{\n",
      "    \"2/3\": 61,\n",
      "    \"4\": 60,\n",
      "    \"5\": 78,\n",
      "    \"6\": 93,\n",
      "    \"7\": 100,\n",
      "    \"8\": 91,\n",
      "    \"9\": 80,\n",
      "    \"10\": 63,\n",
      "    \"11/12\": 60\n",
      "}\n",
      "\n",
      "Expected rolls per space moved:\n",
      "{\n",
      "    \"2/3\": 9.8,\n",
      "    \"4\": 9.9,\n",
      "    \"5\": 7.6,\n",
      "    \"6\": 6.4,\n",
      "    \"7\": 6.0,\n",
      "    \"8\": 6.5,\n",
      "    \"9\": 7.5,\n",
      "    \"10\": 9.4,\n",
      "    \"11/12\": 10.0\n",
      "}\n"
     ]
    }
   ],
   "source": [
    "# Get overall stats\n",
    "\n",
    "overall_total_rolls = sum([log['total_rolls'] for log in logs])\n",
    "average_rolls_per_game = overall_total_rolls / N\n",
    "print(f'Average rolls per game {average_rolls_per_game:0.1f}')\n",
    "\n",
    "overall_total_spaces_moved = {name:sum([log['positions'][name] for log in logs]) for name in horse_names}\n",
    "average_spaces_moved_per_roll = {name: round(overall_total_spaces_moved[name] / overall_total_rolls, 3) for name in horse_names}\n",
    "average_spaces_moved_per_game = {name: round(overall_total_spaces_moved[name] / N, 1) for name in horse_names}\n",
    "expected_rolls_per_space_moved = {name:round(1/val,1) for name, val in average_spaces_moved_per_roll.items()}\n",
    "normalized_speed = {name:round(100*val/average_spaces_moved_per_roll['7']) for name, val in average_spaces_moved_per_roll.items()} # Relative to the 7 horse\n",
    "print('\\nAverage spaces moved per roll:')\n",
    "print(json.dumps(average_spaces_moved_per_roll, indent=4))\n",
    "\n",
    "print('\\nAverage spaces moved per game:')\n",
    "print(json.dumps(average_spaces_moved_per_game, indent=4))\n",
    "\n",
    "print('\\nAverage Speed Normalized to Horse 7:')\n",
    "print(json.dumps(normalized_speed, indent=4))\n",
    "\n",
    "print('\\nExpected rolls per space moved:')\n",
    "print(json.dumps(expected_rolls_per_space_moved, indent=4))"
   ]
  },
  {
   "cell_type": "code",
   "execution_count": 12,
   "id": "9988b99a",
   "metadata": {},
   "outputs": [
    {
     "data": {
      "text/plain": [
       "Text(0.5, 1.0, 'Placement Outcomes')"
      ]
     },
     "execution_count": 12,
     "metadata": {},
     "output_type": "execute_result"
    },
    {
     "data": {
      "image/png": "[encoded data removed]",
      "text/plain": [
       "<Figure size 432x288 with 1 Axes>"
      ]
     },
     "metadata": {
      "needs_background": "light"
     },
     "output_type": "display_data"
    }
   ],
   "source": [
    "sns.histplot(data=df_placement[['2/3','4','10','11/12','5','9','6','8','7']], \n",
    "             multiple=\"stack\", binwidth=1, binrange=[0.5, 10.5])\n",
    "plt.xlabel('Place')\n",
    "plt.xlim([0.5, 9.5])\n",
    "plt.title('Placement Outcomes')\n"
   ]
  },
  {
   "cell_type": "code",
   "execution_count": 16,
   "id": "a6c4431d",
   "metadata": {},
   "outputs": [
    {
     "data": {
      "image/png": "[encoded data removed]",
      "text/plain": [
       "<Figure size 432x288 with 1 Axes>"
      ]
     },
     "metadata": {
      "needs_background": "light"
     },
     "output_type": "display_data"
    }
   ],
   "source": [
    "\n",
    "# sns.set(rc={'figure.figsize':(10,6)})\n",
    "# sns.histplot(data=df_placement, cumulative=True, binwidth=1, binrange=[0.5, 10.5], \n",
    "#              stat='percent', element='step', fill=False)\n",
    "\n",
    "# plt.xlabel('Place')\n",
    "# plt.xlim([0.5, 9.5])\n",
    "# plt.title('Cumulative')\n",
    "\n",
    "horse_names_use = ['7', '8', '9', '10']\n",
    "\n",
    "for i, name in enumerate(horse_names_use):\n",
    "    if i==0:\n",
    "        ax =sns.histplot(data=df_placement[name], binwidth=1, binrange=[.5, 9.5], \n",
    "                         element='step', fill=False, stat='percent', label=name, cumulative=True)\n",
    "    else:\n",
    "        sns.histplot(ax=ax, data=df_placement[name], binwidth=1, binrange=[.5, 9.5], \n",
    "                         element='step', fill=False, stat='percent', label=name, cumulative=True)\n",
    "    plt.xlabel('Place')\n",
    "    plt.xlim([.5, 9.5])\n",
    "    plt.title(f\"Placement Cumulative Distribution\")\n",
    "    plt.legend(title='Horse')"
   ]
  },
  {
   "cell_type": "code",
   "execution_count": 17,
   "id": "9bbf6a72",
   "metadata": {},
   "outputs": [
    {
     "data": {
      "image/png": "[encoded data removed]",
      "text/plain": [
       "<Figure size 432x288 with 1 Axes>"
      ]
     },
     "metadata": {
      "needs_background": "light"
     },
     "output_type": "display_data"
    }
   ],
   "source": [
    "for i, name in enumerate(horse_names_use):\n",
    "    if i==0:\n",
    "        ax =sns.histplot(data=df_placement[name], binwidth=1, binrange=[.5, 9.5], \n",
    "                         element='step', fill=False, stat='percent', label=name)\n",
    "    else:\n",
    "        sns.histplot(ax=ax, data=df_placement[name], binwidth=1, binrange=[.5, 9.5], \n",
    "                         element='step', fill=False, stat='percent', label=name)\n",
    "    plt.xlabel('Place')\n",
    "    plt.xlim([.5, 9.5])\n",
    "    plt.title(f\"Placement Frequency\")\n",
    "    plt.legend(title='Horse')"
   ]
  },
  {
   "cell_type": "code",
   "execution_count": 18,
   "id": "cec8c9d4",
   "metadata": {},
   "outputs": [
    {
     "name": "stdout",
     "output_type": "stream",
     "text": [
      "Import standard bets\n",
      "{'horse': '2/3', 'won': [[9, -3], [8, -2], [7, -2]], 'placed': [[5, -3], [5, -4]], 'showed': [[4, -3], [4, -4]]}\n",
      "{'horse': '11/12', 'won': [[9, -3], [8, -2], [7, -2]], 'placed': [[5, -3], [5, -4]], 'showed': [[4, -3], [4, -4]]}\n",
      "{'horse': '4', 'won': [[7, 0], [6, 0], [5, -1]], 'placed': [[4, 0], [4, -1]], 'showed': [[3, 0], [3, -1]]}\n",
      "{'horse': '10', 'won': [[7, 0], [6, 0], [5, -1]], 'placed': [[4, 0], [4, -1]], 'showed': [[3, 0], [3, -1]]}\n",
      "{'horse': '5', 'won': [[5, 0], [4, 0], [4, -2]], 'placed': [[3, -2], [2, -2]], 'showed': [[2, 0], [2, -3]]}\n",
      "{'horse': '9', 'won': [[5, 0], [4, 0], [4, -2]], 'placed': [[3, -2], [2, -2]], 'showed': [[2, 0], [2, -3]]}\n",
      "{'horse': '6', 'won': [[3, 0], [3, -1], [3, -2]], 'placed': [[2, -4], [2, -5]], 'showed': [[1, 0], [1, -2]]}\n",
      "{'horse': '8', 'won': [[3, 0], [3, -1], [3, -2]], 'placed': [[2, -4], [2, -5]], 'showed': [[1, 0], [1, -2]]}\n",
      "{'horse': '7', 'won': [[3, -2], [3, -3], [3, -4]], 'placed': [[2, -5], [2, -6]], 'showed': [[1, -1], [1, -3]]}\n",
      "\n",
      "Best bets by expected value:\n",
      "\n",
      "('9.showed.0', 2.382)\n",
      "('5.showed.0', 2.208)\n",
      "('10.showed.0', 1.899)\n",
      "('5.won.0', 1.815)\n",
      "('7.showed.0', 1.752)\n",
      "('4.showed.0', 1.728)\n",
      "('10.placed.0', 1.728)\n",
      "('9.won.0', 1.71)\n",
      "('6.showed.0', 1.686)\n",
      "('8.won.0', 1.584)\n",
      "('8.showed.0', 1.548)\n",
      "('6.won.0', 1.503)\n",
      "('5.won.1', 1.452)\n",
      "('4.placed.0', 1.368)\n",
      "('9.won.1', 1.368)\n",
      "('10.won.0', 1.176)\n",
      "('7.showed.1', 1.128)\n",
      "('10.showed.1', 1.11)\n",
      "('9.placed.0', 1.025)\n",
      "('10.won.1', 1.008)\n",
      "('4.won.0', 0.987)\n",
      "('4.showed.1', 0.92)\n",
      "('10.placed.1', 0.872)\n",
      "('4.won.1', 0.846)\n",
      "('6.showed.1', 0.81)\n",
      "('8.won.1', 0.76)\n",
      "('5.placed.0', 0.75)\n",
      "('6.won.1', 0.67)\n",
      "('7.placed.0', 0.588)\n",
      "('8.showed.1', 0.58)\n",
      "('9.showed.1', 0.573)\n",
      "('7.won.0', 0.53)\n",
      "('4.placed.1', 0.482)\n",
      "('5.showed.1', 0.312)\n",
      "('9.placed.1', 0.2)\n",
      "('6.placed.0', 0.11)\n",
      "('7.placed.1', 0.096)\n",
      "('5.placed.1', 0.0)\n",
      "('2/3.showed.0', -0.015)\n",
      "('8.won.2', -0.064)\n",
      "('11/12.showed.0', -0.09)\n",
      "('10.won.2', -0.104)\n",
      "('6.won.2', -0.163)\n",
      "('8.placed.0', -0.22)\n",
      "('7.won.1', -0.24)\n",
      "('4.won.2', -0.248)\n",
      "('5.won.2', -0.306)\n",
      "('9.won.2', -0.404)\n",
      "('6.placed.1', -0.479)\n",
      "('2/3.won.1', -0.544)\n",
      "('2/3.won.2', -0.712)\n",
      "('2/3.showed.1', -0.816)\n",
      "('8.placed.1', -0.842)\n",
      "('11/12.placed.0', -0.858)\n",
      "('2/3.placed.0', -0.894)\n",
      "('11/12.showed.1', -0.896)\n",
      "('7.won.2', -1.01)\n",
      "('11/12.won.1', -1.142)\n",
      "('11/12.won.2', -1.241)\n",
      "('2/3.won.0', -1.32)\n",
      "('11/12.placed.1', -1.739)\n",
      "('2/3.placed.1', -1.777)\n",
      "('11/12.won.0', -2.01)\n"
     ]
    }
   ],
   "source": [
    "#\n",
    "# Calculate expected value for each bet\n",
    "#\n",
    "\n",
    "board = BettingBoard()\n",
    "\n",
    "bet_amount = 3 # Standard chips are 2, 3, 3, 4, 5\n",
    "\n",
    "expected_payouts = get_expected_payouts(bet_amount, board, logs)\n",
    "\n",
    "# Display\n",
    "print('\\nBest bets by expected value:\\n')\n",
    "for item in sorted(list(expected_payouts.items()), key=lambda x: x[1], reverse=True):\n",
    "    print(item)"
   ]
  },
  {
   "cell_type": "code",
   "execution_count": null,
   "id": "f74caee8",
   "metadata": {},
   "outputs": [],
   "source": []
  }
 ],
 "metadata": {
  "kernelspec": {
   "display_name": "Python 3 (ipykernel)",
   "language": "python",
   "name": "python3"
  },
  "language_info": {
   "codemirror_mode": {
    "name": "ipython",
    "version": 3
   },
   "file_extension": ".py",
   "mimetype": "text/x-python",
   "name": "python",
   "nbconvert_exporter": "python",
   "pygments_lexer": "ipython3",
   "version": "3.7.13"
  }
 },
 "nbformat": 4,
 "nbformat_minor": 5
}
